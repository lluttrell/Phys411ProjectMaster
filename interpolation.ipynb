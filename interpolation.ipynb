{
 "metadata": {
  "name": "",
  "signature": "sha256:dca37b168674ddd5c7d658b58b6cc51a736f256b94c7a7db8121fcfa162d759e"
 },
 "nbformat": 3,
 "nbformat_minor": 0,
 "worksheets": [
  {
   "cells": [
    {
     "cell_type": "code",
     "collapsed": false,
     "input": [
      "import numpy as np\n",
      "import scipy.interpolate as interpolate"
     ],
     "language": "python",
     "metadata": {},
     "outputs": [],
     "prompt_number": 1
    },
    {
     "cell_type": "heading",
     "level": 1,
     "metadata": {},
     "source": [
      "Minute Data"
     ]
    },
    {
     "cell_type": "code",
     "collapsed": false,
     "input": [
      "#import data\n",
      "dc = np.genfromtxt('DeepCoveNew.txt')\n",
      "jb = np.genfromtxt('JamesBayNew.txt')\n",
      "jm = np.genfromtxt('JohnMuirNew.txt')\n",
      "uv = np.genfromtxt('UVicISCnew.txt')\n",
      "\n",
      "#save original time points\n",
      "tdc = dc[:,0]\n",
      "tjb = jb[:,0]\n",
      "tjm = jm[:,0]\n",
      "tuv = uv[:,0]\n",
      "\n",
      "#remove points with nan's\n",
      "dcr = dc[~np.isnan(dc[:,1]),:]\n",
      "jbr = jb[~np.isnan(jb[:,1]),:]\n",
      "jmr = jm[~np.isnan(jm[:,1]),:]\n",
      "uvr = uv[~np.isnan(uv[:,1]),:]\n",
      "\n",
      "#function for linear interpolation\n",
      "fdc = interpolate.interp1d(dcr[:,0],dcr[:,1],kind='linear')\n",
      "fjb = interpolate.interp1d(jbr[:,0],jbr[:,1],kind='linear')\n",
      "fjm = interpolate.interp1d(jmr[:,0],jmr[:,1],kind='linear')\n",
      "fuv = interpolate.interp1d(uvr[:,0],uvr[:,1],kind='linear')\n",
      "\n",
      "#replace nan's with interpolated values\n",
      "dc[:,1] = fdc(tdc)\n",
      "jb[:,1] = fjb(tjb)\n",
      "jm[:,1] = fjm(tjm)\n",
      "uv[:,1] = fuv(tuv)\n",
      "\n",
      "#save to text files\n",
      "np.savetxt('DCInterp.txt',dc)\n",
      "np.savetxt('JBInterp.txt',jb)\n",
      "np.savetxt('JMInterp.txt',jm)\n",
      "np.savetxt('UVInterp.txt',uv)"
     ],
     "language": "python",
     "metadata": {},
     "outputs": [],
     "prompt_number": 11
    },
    {
     "cell_type": "heading",
     "level": 1,
     "metadata": {},
     "source": [
      "Hour Data"
     ]
    },
    {
     "cell_type": "code",
     "collapsed": false,
     "input": [
      "#import data\n",
      "h = np.genfromtxt('AllHourly.txt')\n",
      "\n",
      "#save coordinates of stations\n",
      "lon = h[:,0]-360. #lattitude\n",
      "lat = h[:,1] #longitude\n",
      "coords = np.array((lon,lat))\n",
      "np.savetxt('HourlyCoords.txt',coords)\n",
      "\n",
      "#isolate temperature data\n",
      "temp = h[:,2:] #temperatures\n",
      "\n",
      "#create time points in decimal days\n",
      "time = np.arange(0,np.size(temp[0,:])*1./24.,1./24.)\n",
      "\n",
      "N = np.size(lon)\n",
      "for i in range(0,N):\n",
      "    #remove points with nan's\n",
      "    timer = time[~np.isnan(temp[i,:])]\n",
      "    tempr = temp[i,~np.isnan(temp[i,:])]\n",
      "    \n",
      "    #linear interpolation\n",
      "    f = interpolate.interp1d(timer,tempr,kind='linear',bounds_error=False,fill_value=np.mean(tempr[:2]))\n",
      "    temp[i,:] = f(time) \n",
      "\n",
      "#save to text files\n",
      "np.savetxt('HourlyInterp.txt',temp)"
     ],
     "language": "python",
     "metadata": {},
     "outputs": [],
     "prompt_number": 10
    },
    {
     "cell_type": "code",
     "collapsed": false,
     "input": [],
     "language": "python",
     "metadata": {},
     "outputs": []
    }
   ],
   "metadata": {}
  }
 ]
}